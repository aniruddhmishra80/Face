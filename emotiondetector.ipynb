{
 "cells": [
  {
   "cell_type": "code",
   "execution_count": 1,
   "id": "5b55196a-f6fe-470d-bd3c-24add9ae1a86",
   "metadata": {},
   "outputs": [],
   "source": [
    "from keras.utils import to_categorical\n",
    "from keras_preprocessing.image import load_img\n",
    "from keras.models import Sequential\n",
    "from keras.layers import Dense, Conv2D, Dropout, Flatten, MaxPooling2D\n",
    "import os\n",
    "import pandas as pd\n",
    "import numpy as np\n"
   ]
  },
  {
   "cell_type": "code",
   "execution_count": 2,
   "id": "b578bce5-8f5d-4993-96cd-b4802f86754c",
   "metadata": {},
   "outputs": [],
   "source": [
    "TRAIN_DIR = 'images/train'\n",
    "TEST_DIR = 'images/test'\n"
   ]
  },
  {
   "cell_type": "code",
   "execution_count": 3,
   "id": "3b41bc12-ac5e-4eeb-8ced-4ba7583f206d",
   "metadata": {},
   "outputs": [],
   "source": [
    "def createdataframe(dir):\n",
    "    image_paths = []\n",
    "    labels = []\n",
    "    for label in os.listdir(dir):\n",
    "        for imagename in os.listdir(os.path.join(dir, label)):\n",
    "            image_paths.append(os.path.join(dir, label, imagename))\n",
    "            labels.append(label)\n",
    "        print(label, \"completed\")\n",
    "    return image_paths, labels\n"
   ]
  },
  {
   "cell_type": "code",
   "execution_count": 4,
   "id": "448c6ebf-68d0-4edf-bf32-2bf0833c9a9b",
   "metadata": {},
   "outputs": [
    {
     "name": "stdout",
     "output_type": "stream",
     "text": [
      "angry completed\n",
      "disgust completed\n",
      "fear completed\n",
      "happy completed\n",
      "neutral completed\n",
      "sad completed\n",
      "surprise completed\n"
     ]
    }
   ],
   "source": [
    "train = pd.DataFrame()\n",
    "train['image'], train['label'] = createdataframe(TRAIN_DIR)\n",
    "\n"
   ]
  },
  {
   "cell_type": "code",
   "execution_count": 5,
   "id": "5edc84e7-cd1f-4271-9c1c-bf5f9f29e47c",
   "metadata": {},
   "outputs": [
    {
     "name": "stdout",
     "output_type": "stream",
     "text": [
      "                                image     label\n",
      "0            images/train\\angry\\0.jpg     angry\n",
      "1            images/train\\angry\\1.jpg     angry\n",
      "2           images/train\\angry\\10.jpg     angry\n",
      "3        images/train\\angry\\10002.jpg     angry\n",
      "4        images/train\\angry\\10016.jpg     angry\n",
      "...                               ...       ...\n",
      "28816  images/train\\surprise\\9969.jpg  surprise\n",
      "28817  images/train\\surprise\\9985.jpg  surprise\n",
      "28818  images/train\\surprise\\9990.jpg  surprise\n",
      "28819  images/train\\surprise\\9992.jpg  surprise\n",
      "28820  images/train\\surprise\\9996.jpg  surprise\n",
      "\n",
      "[28821 rows x 2 columns]\n"
     ]
    }
   ],
   "source": [
    "print(train)"
   ]
  },
  {
   "cell_type": "code",
   "execution_count": 6,
   "id": "ae78d7f2-921a-459d-979b-f6e56c124688",
   "metadata": {},
   "outputs": [
    {
     "name": "stdout",
     "output_type": "stream",
     "text": [
      "angry completed\n",
      "disgust completed\n",
      "fear completed\n",
      "happy completed\n",
      "neutral completed\n",
      "sad completed\n",
      "surprise completed\n"
     ]
    }
   ],
   "source": [
    "test = pd.DataFrame()\n",
    "test['image'], test['label'] = createdataframe(TEST_DIR)\n",
    "\n"
   ]
  },
  {
   "cell_type": "code",
   "execution_count": 7,
   "id": "5853dce3-3c10-40ff-8821-2277f8410dbe",
   "metadata": {},
   "outputs": [
    {
     "name": "stdout",
     "output_type": "stream",
     "text": [
      "                              image     label\n",
      "0       images/test\\angry\\10052.jpg     angry\n",
      "1       images/test\\angry\\10065.jpg     angry\n",
      "2       images/test\\angry\\10079.jpg     angry\n",
      "3       images/test\\angry\\10095.jpg     angry\n",
      "4       images/test\\angry\\10121.jpg     angry\n",
      "...                             ...       ...\n",
      "7061  images/test\\surprise\\9806.jpg  surprise\n",
      "7062  images/test\\surprise\\9830.jpg  surprise\n",
      "7063  images/test\\surprise\\9853.jpg  surprise\n",
      "7064  images/test\\surprise\\9878.jpg  surprise\n",
      "7065   images/test\\surprise\\993.jpg  surprise\n",
      "\n",
      "[7066 rows x 2 columns]\n",
      "0         images/test\\angry\\10052.jpg\n",
      "1         images/test\\angry\\10065.jpg\n",
      "2         images/test\\angry\\10079.jpg\n",
      "3         images/test\\angry\\10095.jpg\n",
      "4         images/test\\angry\\10121.jpg\n",
      "                    ...              \n",
      "7061    images/test\\surprise\\9806.jpg\n",
      "7062    images/test\\surprise\\9830.jpg\n",
      "7063    images/test\\surprise\\9853.jpg\n",
      "7064    images/test\\surprise\\9878.jpg\n",
      "7065     images/test\\surprise\\993.jpg\n",
      "Name: image, Length: 7066, dtype: object\n"
     ]
    }
   ],
   "source": [
    "print(test)\n",
    "print(test['image'])\n"
   ]
  },
  {
   "cell_type": "code",
   "execution_count": 10,
   "id": "dbd75d9e-9107-405d-8203-a3af38edd2fd",
   "metadata": {},
   "outputs": [],
   "source": [
    "from tqdm.notebook import tqdm\n"
   ]
  },
  {
   "cell_type": "code",
   "execution_count": 8,
   "id": "0efb4a8f-68b7-4887-b8d2-7564206e46be",
   "metadata": {},
   "outputs": [],
   "source": [
    "def extract_features(images):\n",
    "    features = []\n",
    "    for image in tqdm(images):\n",
    "        img = load_img(image, grayscale=True)\n",
    "        img = np.array(img)\n",
    "        features.append(img)\n",
    "    features = np.array(features)\n",
    "    features = features.reshape(len(features), 48, 48, 1)\n",
    "    return features\n",
    "\n",
    "\n"
   ]
  },
  {
   "cell_type": "code",
   "execution_count": 11,
   "id": "0ac0e901-6414-44ba-ac10-00fe747b7d28",
   "metadata": {},
   "outputs": [
    {
     "data": {
      "application/vnd.jupyter.widget-view+json": {
       "model_id": "05e14aee717549cca7e3bfdba2c19b96",
       "version_major": 2,
       "version_minor": 0
      },
      "text/plain": [
       "  0%|          | 0/28821 [00:00<?, ?it/s]"
      ]
     },
     "metadata": {},
     "output_type": "display_data"
    },
    {
     "name": "stderr",
     "output_type": "stream",
     "text": [
      "C:\\Users\\dipan\\.conda\\envs\\tfnew\\lib\\site-packages\\keras_preprocessing\\image\\utils.py:107: UserWarning: grayscale is deprecated. Please use color_mode = \"grayscale\"\n",
      "  warnings.warn('grayscale is deprecated. Please use '\n"
     ]
    }
   ],
   "source": [
    "train_features = extract_features(train['image'])\n"
   ]
  },
  {
   "cell_type": "code",
   "execution_count": 13,
   "id": "7c6a72cd-0ea2-4398-8631-41ba786b8a1f",
   "metadata": {},
   "outputs": [
    {
     "data": {
      "application/vnd.jupyter.widget-view+json": {
       "model_id": "ea46c2ccb14a4f889ec78d741322cf44",
       "version_major": 2,
       "version_minor": 0
      },
      "text/plain": [
       "  0%|          | 0/7066 [00:00<?, ?it/s]"
      ]
     },
     "metadata": {},
     "output_type": "display_data"
    }
   ],
   "source": [
    "test_features = extract_features(test['image'])"
   ]
  },
  {
   "cell_type": "code",
   "execution_count": 14,
   "id": "7f1c6aad-6915-4261-a764-bc3e72543811",
   "metadata": {},
   "outputs": [],
   "source": [
    "x_train = train_features/255.0\n",
    "x_test = test_features/255.0"
   ]
  },
  {
   "cell_type": "code",
   "execution_count": 15,
   "id": "0e048a56-ece8-44aa-9af6-0fa5887c0109",
   "metadata": {},
   "outputs": [],
   "source": [
    "from sklearn.preprocessing import LabelEncoder"
   ]
  },
  {
   "cell_type": "code",
   "execution_count": 16,
   "id": "a97084bf-6b98-4265-8a6e-d3930737d790",
   "metadata": {},
   "outputs": [
    {
     "data": {
      "text/html": [
       "<style>#sk-container-id-1 {color: black;background-color: white;}#sk-container-id-1 pre{padding: 0;}#sk-container-id-1 div.sk-toggleable {background-color: white;}#sk-container-id-1 label.sk-toggleable__label {cursor: pointer;display: block;width: 100%;margin-bottom: 0;padding: 0.3em;box-sizing: border-box;text-align: center;}#sk-container-id-1 label.sk-toggleable__label-arrow:before {content: \"▸\";float: left;margin-right: 0.25em;color: #696969;}#sk-container-id-1 label.sk-toggleable__label-arrow:hover:before {color: black;}#sk-container-id-1 div.sk-estimator:hover label.sk-toggleable__label-arrow:before {color: black;}#sk-container-id-1 div.sk-toggleable__content {max-height: 0;max-width: 0;overflow: hidden;text-align: left;background-color: #f0f8ff;}#sk-container-id-1 div.sk-toggleable__content pre {margin: 0.2em;color: black;border-radius: 0.25em;background-color: #f0f8ff;}#sk-container-id-1 input.sk-toggleable__control:checked~div.sk-toggleable__content {max-height: 200px;max-width: 100%;overflow: auto;}#sk-container-id-1 input.sk-toggleable__control:checked~label.sk-toggleable__label-arrow:before {content: \"▾\";}#sk-container-id-1 div.sk-estimator input.sk-toggleable__control:checked~label.sk-toggleable__label {background-color: #d4ebff;}#sk-container-id-1 div.sk-label input.sk-toggleable__control:checked~label.sk-toggleable__label {background-color: #d4ebff;}#sk-container-id-1 input.sk-hidden--visually {border: 0;clip: rect(1px 1px 1px 1px);clip: rect(1px, 1px, 1px, 1px);height: 1px;margin: -1px;overflow: hidden;padding: 0;position: absolute;width: 1px;}#sk-container-id-1 div.sk-estimator {font-family: monospace;background-color: #f0f8ff;border: 1px dotted black;border-radius: 0.25em;box-sizing: border-box;margin-bottom: 0.5em;}#sk-container-id-1 div.sk-estimator:hover {background-color: #d4ebff;}#sk-container-id-1 div.sk-parallel-item::after {content: \"\";width: 100%;border-bottom: 1px solid gray;flex-grow: 1;}#sk-container-id-1 div.sk-label:hover label.sk-toggleable__label {background-color: #d4ebff;}#sk-container-id-1 div.sk-serial::before {content: \"\";position: absolute;border-left: 1px solid gray;box-sizing: border-box;top: 0;bottom: 0;left: 50%;z-index: 0;}#sk-container-id-1 div.sk-serial {display: flex;flex-direction: column;align-items: center;background-color: white;padding-right: 0.2em;padding-left: 0.2em;position: relative;}#sk-container-id-1 div.sk-item {position: relative;z-index: 1;}#sk-container-id-1 div.sk-parallel {display: flex;align-items: stretch;justify-content: center;background-color: white;position: relative;}#sk-container-id-1 div.sk-item::before, #sk-container-id-1 div.sk-parallel-item::before {content: \"\";position: absolute;border-left: 1px solid gray;box-sizing: border-box;top: 0;bottom: 0;left: 50%;z-index: -1;}#sk-container-id-1 div.sk-parallel-item {display: flex;flex-direction: column;z-index: 1;position: relative;background-color: white;}#sk-container-id-1 div.sk-parallel-item:first-child::after {align-self: flex-end;width: 50%;}#sk-container-id-1 div.sk-parallel-item:last-child::after {align-self: flex-start;width: 50%;}#sk-container-id-1 div.sk-parallel-item:only-child::after {width: 0;}#sk-container-id-1 div.sk-dashed-wrapped {border: 1px dashed gray;margin: 0 0.4em 0.5em 0.4em;box-sizing: border-box;padding-bottom: 0.4em;background-color: white;}#sk-container-id-1 div.sk-label label {font-family: monospace;font-weight: bold;display: inline-block;line-height: 1.2em;}#sk-container-id-1 div.sk-label-container {text-align: center;}#sk-container-id-1 div.sk-container {/* jupyter's `normalize.less` sets `[hidden] { display: none; }` but bootstrap.min.css set `[hidden] { display: none !important; }` so we also need the `!important` here to be able to override the default hidden behavior on the sphinx rendered scikit-learn.org. See: https://github.com/scikit-learn/scikit-learn/issues/21755 */display: inline-block !important;position: relative;}#sk-container-id-1 div.sk-text-repr-fallback {display: none;}</style><div id=\"sk-container-id-1\" class=\"sk-top-container\"><div class=\"sk-text-repr-fallback\"><pre>LabelEncoder()</pre><b>In a Jupyter environment, please rerun this cell to show the HTML representation or trust the notebook. <br />On GitHub, the HTML representation is unable to render, please try loading this page with nbviewer.org.</b></div><div class=\"sk-container\" hidden><div class=\"sk-item\"><div class=\"sk-estimator sk-toggleable\"><input class=\"sk-toggleable__control sk-hidden--visually\" id=\"sk-estimator-id-1\" type=\"checkbox\" checked><label for=\"sk-estimator-id-1\" class=\"sk-toggleable__label sk-toggleable__label-arrow\">LabelEncoder</label><div class=\"sk-toggleable__content\"><pre>LabelEncoder()</pre></div></div></div></div></div>"
      ],
      "text/plain": [
       "LabelEncoder()"
      ]
     },
     "execution_count": 16,
     "metadata": {},
     "output_type": "execute_result"
    }
   ],
   "source": [
    "le = LabelEncoder()\n",
    "le.fit(train['label'])"
   ]
  },
  {
   "cell_type": "code",
   "execution_count": 17,
   "id": "22c691e9-1a9a-4c24-8246-dc22ccbf97da",
   "metadata": {},
   "outputs": [],
   "source": [
    "y_train = le.transform(train['label'])\n",
    "y_test = le.transform(test['label'])"
   ]
  },
  {
   "cell_type": "code",
   "execution_count": 18,
   "id": "d0c3940c-2756-4e64-8633-c5e113a9a84d",
   "metadata": {},
   "outputs": [],
   "source": [
    "y_train = to_categorical(y_train,num_classes = 7)\n",
    "y_test = to_categorical(y_test,num_classes = 7)"
   ]
  },
  {
   "cell_type": "code",
   "execution_count": 19,
   "id": "1ce6e26e-7cc7-43b0-bef8-219257de5eb3",
   "metadata": {},
   "outputs": [],
   "source": [
    "model = Sequential()\n",
    "# convolutional Layers\n",
    "model.add(Conv2D(128, kernel_size=(3,3), activation='relu', input_shape=(48,48,1)))\n",
    "model.add(MaxPooling2D(pool_size=(2,2)))\n",
    "model.add(Dropout(0.4))\n",
    "\n",
    "model.add(Conv2D(256, kernel_size=(3,3), activation='relu'))\n",
    "model.add(MaxPooling2D(pool_size=(2,2)))\n",
    "model.add(Dropout(0.4))\n",
    "\n",
    "model.add(Conv2D(512, kernel_size=(3,3), activation='relu'))\n",
    "model.add(MaxPooling2D(pool_size=(2,2)))\n",
    "model.add(Dropout(0.4))\n",
    "\n",
    "model.add(Conv2D(512, kernel_size=(3,3), activation='relu'))\n",
    "model.add(MaxPooling2D(pool_size=(2,2)))\n",
    "model.add(Dropout(0.4))\n",
    "\n",
    "model.add(Flatten())\n",
    "# fully connected Layers\n",
    "model.add(Dense(512, activation='relu'))\n",
    "model.add(Dropout(0.4))\n",
    "\n",
    "model.add(Dense(256, activation='relu'))\n",
    "model.add(Dropout(0.3))\n",
    "\n",
    "# output Layer\n",
    "model.add(Dense(7, activation='softmax'))"
   ]
  },
  {
   "cell_type": "code",
   "execution_count": 20,
   "id": "e763f0ac-7fb6-4e3e-8263-c4a97ecee78d",
   "metadata": {},
   "outputs": [],
   "source": [
    "model.compile(optimizer='adam', loss='categorical_crossentropy', metrics='accuracy')"
   ]
  },
  {
   "cell_type": "code",
   "execution_count": 22,
   "id": "14f26df0-2b20-4b0f-a280-fe9229c5665d",
   "metadata": {},
   "outputs": [
    {
     "name": "stdout",
     "output_type": "stream",
     "text": [
      "Epoch 1/100\n",
      "226/226 [==============================] - 253s 1s/step - loss: 1.8270 - accuracy: 0.2416 - val_loss: 1.8092 - val_accuracy: 0.2583\n",
      "Epoch 2/100\n",
      "226/226 [==============================] - 262s 1s/step - loss: 1.8087 - accuracy: 0.2511 - val_loss: 1.8042 - val_accuracy: 0.2607\n",
      "Epoch 3/100\n",
      "226/226 [==============================] - 247s 1s/step - loss: 1.7844 - accuracy: 0.2583 - val_loss: 1.7348 - val_accuracy: 0.2905\n",
      "Epoch 4/100\n",
      "226/226 [==============================] - 254s 1s/step - loss: 1.7159 - accuracy: 0.3012 - val_loss: 1.6306 - val_accuracy: 0.3660\n",
      "Epoch 5/100\n",
      "226/226 [==============================] - 265s 1s/step - loss: 1.6210 - accuracy: 0.3576 - val_loss: 1.5156 - val_accuracy: 0.4069\n",
      "Epoch 6/100\n",
      "226/226 [==============================] - 268s 1s/step - loss: 1.5247 - accuracy: 0.4049 - val_loss: 1.4041 - val_accuracy: 0.4575\n",
      "Epoch 7/100\n",
      "226/226 [==============================] - 273s 1s/step - loss: 1.4586 - accuracy: 0.4340 - val_loss: 1.3361 - val_accuracy: 0.4839\n",
      "Epoch 8/100\n",
      "226/226 [==============================] - 268s 1s/step - loss: 1.4130 - accuracy: 0.4552 - val_loss: 1.3213 - val_accuracy: 0.4915\n",
      "Epoch 9/100\n",
      "226/226 [==============================] - 282s 1s/step - loss: 1.3767 - accuracy: 0.4698 - val_loss: 1.2825 - val_accuracy: 0.5112\n",
      "Epoch 10/100\n",
      "226/226 [==============================] - 275s 1s/step - loss: 1.3488 - accuracy: 0.4848 - val_loss: 1.2413 - val_accuracy: 0.5270\n",
      "Epoch 11/100\n",
      "226/226 [==============================] - 275s 1s/step - loss: 1.3279 - accuracy: 0.4920 - val_loss: 1.2109 - val_accuracy: 0.5365\n",
      "Epoch 12/100\n",
      "226/226 [==============================] - 279s 1s/step - loss: 1.3098 - accuracy: 0.5014 - val_loss: 1.2139 - val_accuracy: 0.5382\n",
      "Epoch 13/100\n",
      "226/226 [==============================] - 298s 1s/step - loss: 1.2867 - accuracy: 0.5078 - val_loss: 1.1926 - val_accuracy: 0.5497\n",
      "Epoch 14/100\n",
      "226/226 [==============================] - 298s 1s/step - loss: 1.2679 - accuracy: 0.5190 - val_loss: 1.1756 - val_accuracy: 0.5560\n",
      "Epoch 15/100\n",
      "226/226 [==============================] - 279s 1s/step - loss: 1.2600 - accuracy: 0.5202 - val_loss: 1.1574 - val_accuracy: 0.5657\n",
      "Epoch 16/100\n",
      "226/226 [==============================] - 263s 1s/step - loss: 1.2407 - accuracy: 0.5243 - val_loss: 1.1564 - val_accuracy: 0.5617\n",
      "Epoch 17/100\n",
      "226/226 [==============================] - 257s 1s/step - loss: 1.2263 - accuracy: 0.5324 - val_loss: 1.1367 - val_accuracy: 0.5702\n",
      "Epoch 18/100\n",
      "226/226 [==============================] - 275s 1s/step - loss: 1.2098 - accuracy: 0.5366 - val_loss: 1.1500 - val_accuracy: 0.5681\n",
      "Epoch 19/100\n",
      "226/226 [==============================] - 319s 1s/step - loss: 1.2001 - accuracy: 0.5441 - val_loss: 1.1354 - val_accuracy: 0.5729\n",
      "Epoch 20/100\n",
      "226/226 [==============================] - 268s 1s/step - loss: 1.1908 - accuracy: 0.5472 - val_loss: 1.1225 - val_accuracy: 0.5751\n",
      "Epoch 21/100\n",
      "226/226 [==============================] - 271s 1s/step - loss: 1.1760 - accuracy: 0.5503 - val_loss: 1.1215 - val_accuracy: 0.5754\n",
      "Epoch 22/100\n",
      "226/226 [==============================] - 272s 1s/step - loss: 1.1665 - accuracy: 0.5560 - val_loss: 1.1183 - val_accuracy: 0.5835\n",
      "Epoch 23/100\n",
      "226/226 [==============================] - 262s 1s/step - loss: 1.1601 - accuracy: 0.5586 - val_loss: 1.1081 - val_accuracy: 0.5851\n",
      "Epoch 24/100\n",
      "226/226 [==============================] - 276s 1s/step - loss: 1.1553 - accuracy: 0.5614 - val_loss: 1.1020 - val_accuracy: 0.5834\n",
      "Epoch 25/100\n",
      "226/226 [==============================] - 283s 1s/step - loss: 1.1369 - accuracy: 0.5685 - val_loss: 1.1021 - val_accuracy: 0.5870\n",
      "Epoch 26/100\n",
      "226/226 [==============================] - 265s 1s/step - loss: 1.1294 - accuracy: 0.5745 - val_loss: 1.0935 - val_accuracy: 0.5836\n",
      "Epoch 27/100\n",
      "226/226 [==============================] - 268s 1s/step - loss: 1.1260 - accuracy: 0.5727 - val_loss: 1.0825 - val_accuracy: 0.5968\n",
      "Epoch 28/100\n",
      "226/226 [==============================] - 266s 1s/step - loss: 1.1058 - accuracy: 0.5808 - val_loss: 1.0920 - val_accuracy: 0.5928\n",
      "Epoch 29/100\n",
      "226/226 [==============================] - 260s 1s/step - loss: 1.1011 - accuracy: 0.5832 - val_loss: 1.0787 - val_accuracy: 0.5951\n",
      "Epoch 30/100\n",
      "226/226 [==============================] - 265s 1s/step - loss: 1.0977 - accuracy: 0.5843 - val_loss: 1.0745 - val_accuracy: 0.5954\n",
      "Epoch 31/100\n",
      "226/226 [==============================] - 268s 1s/step - loss: 1.0947 - accuracy: 0.5874 - val_loss: 1.0847 - val_accuracy: 0.5948\n",
      "Epoch 32/100\n",
      "226/226 [==============================] - 264s 1s/step - loss: 1.0901 - accuracy: 0.5888 - val_loss: 1.0644 - val_accuracy: 0.6046\n",
      "Epoch 33/100\n",
      "226/226 [==============================] - 276s 1s/step - loss: 1.0723 - accuracy: 0.5927 - val_loss: 1.0718 - val_accuracy: 0.6002\n",
      "Epoch 34/100\n",
      "226/226 [==============================] - 264s 1s/step - loss: 1.0685 - accuracy: 0.5974 - val_loss: 1.0658 - val_accuracy: 0.6020\n",
      "Epoch 35/100\n",
      "226/226 [==============================] - 262s 1s/step - loss: 1.0601 - accuracy: 0.6034 - val_loss: 1.0657 - val_accuracy: 0.6022\n",
      "Epoch 36/100\n",
      "226/226 [==============================] - 265s 1s/step - loss: 1.0520 - accuracy: 0.6008 - val_loss: 1.0607 - val_accuracy: 0.6094\n",
      "Epoch 37/100\n",
      "226/226 [==============================] - 255s 1s/step - loss: 1.0449 - accuracy: 0.6063 - val_loss: 1.0581 - val_accuracy: 0.6040\n",
      "Epoch 38/100\n",
      "226/226 [==============================] - 255s 1s/step - loss: 1.0445 - accuracy: 0.6048 - val_loss: 1.0577 - val_accuracy: 0.6056\n",
      "Epoch 39/100\n",
      "226/226 [==============================] - 253s 1s/step - loss: 1.0366 - accuracy: 0.6104 - val_loss: 1.0654 - val_accuracy: 0.5995\n",
      "Epoch 40/100\n",
      "226/226 [==============================] - 243s 1s/step - loss: 1.0328 - accuracy: 0.6112 - val_loss: 1.0506 - val_accuracy: 0.6131\n",
      "Epoch 41/100\n",
      "226/226 [==============================] - 244s 1s/step - loss: 1.0182 - accuracy: 0.6161 - val_loss: 1.0611 - val_accuracy: 0.6066\n",
      "Epoch 42/100\n",
      "226/226 [==============================] - 243s 1s/step - loss: 1.0108 - accuracy: 0.6166 - val_loss: 1.0606 - val_accuracy: 0.6076\n",
      "Epoch 43/100\n",
      "226/226 [==============================] - 242s 1s/step - loss: 1.0183 - accuracy: 0.6185 - val_loss: 1.0648 - val_accuracy: 0.6010\n",
      "Epoch 44/100\n",
      "226/226 [==============================] - 239s 1s/step - loss: 1.0037 - accuracy: 0.6272 - val_loss: 1.0527 - val_accuracy: 0.6132\n",
      "Epoch 45/100\n",
      "226/226 [==============================] - 262s 1s/step - loss: 0.9923 - accuracy: 0.6236 - val_loss: 1.0441 - val_accuracy: 0.6108\n",
      "Epoch 46/100\n",
      "226/226 [==============================] - 296s 1s/step - loss: 0.9876 - accuracy: 0.6268 - val_loss: 1.0414 - val_accuracy: 0.6132\n",
      "Epoch 47/100\n",
      "226/226 [==============================] - 302s 1s/step - loss: 0.9876 - accuracy: 0.6292 - val_loss: 1.0477 - val_accuracy: 0.6138\n",
      "Epoch 48/100\n",
      "226/226 [==============================] - 307s 1s/step - loss: 0.9824 - accuracy: 0.6290 - val_loss: 1.0351 - val_accuracy: 0.6149\n",
      "Epoch 49/100\n",
      "226/226 [==============================] - 305s 1s/step - loss: 0.9723 - accuracy: 0.6311 - val_loss: 1.0556 - val_accuracy: 0.6118\n",
      "Epoch 50/100\n",
      "226/226 [==============================] - 271s 1s/step - loss: 0.9656 - accuracy: 0.6376 - val_loss: 1.0422 - val_accuracy: 0.6115\n",
      "Epoch 51/100\n",
      "226/226 [==============================] - 265s 1s/step - loss: 0.9568 - accuracy: 0.6398 - val_loss: 1.0526 - val_accuracy: 0.6141\n",
      "Epoch 52/100\n",
      "226/226 [==============================] - 263s 1s/step - loss: 0.9604 - accuracy: 0.6366 - val_loss: 1.0423 - val_accuracy: 0.6146\n",
      "Epoch 53/100\n",
      "226/226 [==============================] - 246s 1s/step - loss: 0.9545 - accuracy: 0.6428 - val_loss: 1.0487 - val_accuracy: 0.6128\n",
      "Epoch 54/100\n",
      "226/226 [==============================] - 242s 1s/step - loss: 0.9482 - accuracy: 0.6423 - val_loss: 1.0342 - val_accuracy: 0.6186\n",
      "Epoch 55/100\n",
      "226/226 [==============================] - 240s 1s/step - loss: 0.9432 - accuracy: 0.6478 - val_loss: 1.0402 - val_accuracy: 0.6179\n",
      "Epoch 56/100\n",
      "226/226 [==============================] - 249s 1s/step - loss: 0.9349 - accuracy: 0.6498 - val_loss: 1.0308 - val_accuracy: 0.6182\n",
      "Epoch 57/100\n",
      "226/226 [==============================] - 238s 1s/step - loss: 0.9315 - accuracy: 0.6534 - val_loss: 1.0312 - val_accuracy: 0.6231\n",
      "Epoch 58/100\n",
      "226/226 [==============================] - 245s 1s/step - loss: 0.9228 - accuracy: 0.6562 - val_loss: 1.0472 - val_accuracy: 0.6170\n",
      "Epoch 59/100\n",
      "226/226 [==============================] - 247s 1s/step - loss: 0.9258 - accuracy: 0.6556 - val_loss: 1.0319 - val_accuracy: 0.6226\n",
      "Epoch 60/100\n",
      "226/226 [==============================] - 239s 1s/step - loss: 0.9084 - accuracy: 0.6632 - val_loss: 1.0364 - val_accuracy: 0.6170\n",
      "Epoch 61/100\n",
      "226/226 [==============================] - 243s 1s/step - loss: 0.9187 - accuracy: 0.6572 - val_loss: 1.0306 - val_accuracy: 0.6194\n",
      "Epoch 62/100\n",
      "226/226 [==============================] - 241s 1s/step - loss: 0.9037 - accuracy: 0.6624 - val_loss: 1.0285 - val_accuracy: 0.6221\n",
      "Epoch 63/100\n",
      "226/226 [==============================] - 238s 1s/step - loss: 0.8984 - accuracy: 0.6653 - val_loss: 1.0262 - val_accuracy: 0.6250\n",
      "Epoch 64/100\n",
      "226/226 [==============================] - 251s 1s/step - loss: 0.8979 - accuracy: 0.6670 - val_loss: 1.0198 - val_accuracy: 0.6272\n",
      "Epoch 65/100\n",
      "226/226 [==============================] - 252s 1s/step - loss: 0.8920 - accuracy: 0.6673 - val_loss: 1.0213 - val_accuracy: 0.6272\n",
      "Epoch 66/100\n",
      "226/226 [==============================] - 241s 1s/step - loss: 0.8893 - accuracy: 0.6701 - val_loss: 1.0376 - val_accuracy: 0.6219\n",
      "Epoch 67/100\n",
      "226/226 [==============================] - 250s 1s/step - loss: 0.8869 - accuracy: 0.6756 - val_loss: 1.0306 - val_accuracy: 0.6210\n",
      "Epoch 68/100\n",
      "226/226 [==============================] - 250s 1s/step - loss: 0.8686 - accuracy: 0.6781 - val_loss: 1.0319 - val_accuracy: 0.6202\n",
      "Epoch 69/100\n",
      "226/226 [==============================] - 241s 1s/step - loss: 0.8792 - accuracy: 0.6725 - val_loss: 1.0422 - val_accuracy: 0.6199\n",
      "Epoch 70/100\n",
      "226/226 [==============================] - 240s 1s/step - loss: 0.8741 - accuracy: 0.6727 - val_loss: 1.0414 - val_accuracy: 0.6180\n",
      "Epoch 71/100\n",
      "226/226 [==============================] - 247s 1s/step - loss: 0.8611 - accuracy: 0.6804 - val_loss: 1.0380 - val_accuracy: 0.6221\n",
      "Epoch 72/100\n",
      "226/226 [==============================] - 247s 1s/step - loss: 0.8556 - accuracy: 0.6862 - val_loss: 1.0336 - val_accuracy: 0.6271\n",
      "Epoch 73/100\n",
      "226/226 [==============================] - 248s 1s/step - loss: 0.8608 - accuracy: 0.6837 - val_loss: 1.0341 - val_accuracy: 0.6241\n",
      "Epoch 74/100\n",
      "226/226 [==============================] - 243s 1s/step - loss: 0.8497 - accuracy: 0.6854 - val_loss: 1.0172 - val_accuracy: 0.6268\n",
      "Epoch 75/100\n",
      "226/226 [==============================] - 269s 1s/step - loss: 0.8418 - accuracy: 0.6879 - val_loss: 1.0268 - val_accuracy: 0.6250\n",
      "Epoch 76/100\n",
      "226/226 [==============================] - 276s 1s/step - loss: 0.8459 - accuracy: 0.6872 - val_loss: 1.0345 - val_accuracy: 0.6231\n",
      "Epoch 77/100\n",
      "226/226 [==============================] - 274s 1s/step - loss: 0.8309 - accuracy: 0.6958 - val_loss: 1.0373 - val_accuracy: 0.6228\n",
      "Epoch 78/100\n",
      "226/226 [==============================] - 285s 1s/step - loss: 0.8335 - accuracy: 0.6895 - val_loss: 1.0338 - val_accuracy: 0.6265\n",
      "Epoch 79/100\n",
      "226/226 [==============================] - 277s 1s/step - loss: 0.8261 - accuracy: 0.6964 - val_loss: 1.0281 - val_accuracy: 0.6254\n",
      "Epoch 80/100\n",
      "226/226 [==============================] - 286s 1s/step - loss: 0.8235 - accuracy: 0.6933 - val_loss: 1.0371 - val_accuracy: 0.6233\n",
      "Epoch 81/100\n",
      "226/226 [==============================] - 307s 1s/step - loss: 0.8200 - accuracy: 0.6984 - val_loss: 1.0280 - val_accuracy: 0.6245\n",
      "Epoch 82/100\n",
      "226/226 [==============================] - 318s 1s/step - loss: 0.8059 - accuracy: 0.7061 - val_loss: 1.0314 - val_accuracy: 0.6238\n",
      "Epoch 83/100\n",
      "226/226 [==============================] - 318s 1s/step - loss: 0.8110 - accuracy: 0.6992 - val_loss: 1.0328 - val_accuracy: 0.6267\n",
      "Epoch 84/100\n",
      "226/226 [==============================] - 322s 1s/step - loss: 0.8106 - accuracy: 0.7013 - val_loss: 1.0334 - val_accuracy: 0.6228\n",
      "Epoch 85/100\n",
      "226/226 [==============================] - 305s 1s/step - loss: 0.8080 - accuracy: 0.7022 - val_loss: 1.0269 - val_accuracy: 0.6267\n",
      "Epoch 86/100\n",
      "226/226 [==============================] - 304s 1s/step - loss: 0.8047 - accuracy: 0.7046 - val_loss: 1.0238 - val_accuracy: 0.6262\n",
      "Epoch 87/100\n",
      "226/226 [==============================] - 296s 1s/step - loss: 0.7907 - accuracy: 0.7091 - val_loss: 1.0321 - val_accuracy: 0.6255\n",
      "Epoch 88/100\n",
      "226/226 [==============================] - 305s 1s/step - loss: 0.7914 - accuracy: 0.7098 - val_loss: 1.0312 - val_accuracy: 0.6268\n",
      "Epoch 89/100\n",
      "226/226 [==============================] - 306s 1s/step - loss: 0.7883 - accuracy: 0.7090 - val_loss: 1.0112 - val_accuracy: 0.6306\n",
      "Epoch 90/100\n",
      "226/226 [==============================] - 304s 1s/step - loss: 0.7860 - accuracy: 0.7140 - val_loss: 1.0355 - val_accuracy: 0.6255\n",
      "Epoch 91/100\n",
      "226/226 [==============================] - 307s 1s/step - loss: 0.7816 - accuracy: 0.7141 - val_loss: 1.0122 - val_accuracy: 0.6332\n",
      "Epoch 92/100\n",
      "226/226 [==============================] - 308s 1s/step - loss: 0.7779 - accuracy: 0.7165 - val_loss: 1.0317 - val_accuracy: 0.6302\n",
      "Epoch 93/100\n",
      "226/226 [==============================] - 310s 1s/step - loss: 0.7675 - accuracy: 0.7175 - val_loss: 1.0229 - val_accuracy: 0.6269\n",
      "Epoch 94/100\n",
      "226/226 [==============================] - 305s 1s/step - loss: 0.7787 - accuracy: 0.7156 - val_loss: 1.0264 - val_accuracy: 0.6312\n",
      "Epoch 95/100\n",
      "226/226 [==============================] - 285s 1s/step - loss: 0.7660 - accuracy: 0.7168 - val_loss: 1.0163 - val_accuracy: 0.6318\n",
      "Epoch 96/100\n",
      "226/226 [==============================] - 265s 1s/step - loss: 0.7705 - accuracy: 0.7169 - val_loss: 1.0290 - val_accuracy: 0.6267\n",
      "Epoch 97/100\n",
      "226/226 [==============================] - 260s 1s/step - loss: 0.7624 - accuracy: 0.7202 - val_loss: 1.0258 - val_accuracy: 0.6298\n",
      "Epoch 98/100\n",
      "226/226 [==============================] - 259s 1s/step - loss: 0.7552 - accuracy: 0.7241 - val_loss: 1.0409 - val_accuracy: 0.6320\n",
      "Epoch 99/100\n",
      "226/226 [==============================] - 264s 1s/step - loss: 0.7511 - accuracy: 0.7274 - val_loss: 1.0414 - val_accuracy: 0.6305\n",
      "Epoch 100/100\n",
      "226/226 [==============================] - 258s 1s/step - loss: 0.7471 - accuracy: 0.7273 - val_loss: 1.0238 - val_accuracy: 0.6294\n"
     ]
    },
    {
     "data": {
      "text/plain": [
       "<keras.callbacks.History at 0x282380d6ce0>"
      ]
     },
     "execution_count": 22,
     "metadata": {},
     "output_type": "execute_result"
    }
   ],
   "source": [
    "model.fit(x=x_train, y=y_train, batch_size=128, epochs=100, validation_data=(x_test,y_test))"
   ]
  },
  {
   "cell_type": "code",
   "execution_count": 23,
   "id": "1e824c68-1714-410a-aed2-635da7b27eee",
   "metadata": {},
   "outputs": [],
   "source": [
    "model_json = model.to_json()\n",
    "with open(\"emotiondetector.json\", \"w\") as json_file:\n",
    "    json_file.write(model_json)\n",
    "model.save(\"emotiondetector.h5\")"
   ]
  },
  {
   "cell_type": "code",
   "execution_count": null,
   "id": "87d8daa4-9c6a-4474-be65-8a2f85dff332",
   "metadata": {},
   "outputs": [],
   "source": []
  }
 ],
 "metadata": {
  "kernelspec": {
   "display_name": "Python 3 (ipykernel)",
   "language": "python",
   "name": "python3"
  },
  "language_info": {
   "codemirror_mode": {
    "name": "ipython",
    "version": 3
   },
   "file_extension": ".py",
   "mimetype": "text/x-python",
   "name": "python",
   "nbconvert_exporter": "python",
   "pygments_lexer": "ipython3",
   "version": "3.10.13"
  }
 },
 "nbformat": 4,
 "nbformat_minor": 5
}
